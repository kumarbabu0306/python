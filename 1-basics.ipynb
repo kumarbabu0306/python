{
  "nbformat": 4,
  "nbformat_minor": 0,
  "metadata": {
    "colab": {
      "name": "Untitled15.ipynb",
      "provenance": [],
      "include_colab_link": true
    },
    "kernelspec": {
      "name": "python3",
      "display_name": "Python 3"
    }
  },
  "cells": [
    {
      "cell_type": "markdown",
      "metadata": {
        "id": "view-in-github",
        "colab_type": "text"
      },
      "source": [
        "<a href=\"https://colab.research.google.com/github/kumarbabu0306/python/blob/master/1-basics.ipynb\" target=\"_parent\"><img src=\"https://colab.research.google.com/assets/colab-badge.svg\" alt=\"Open In Colab\"/></a>"
      ]
    },
    {
      "cell_type": "markdown",
      "metadata": {
        "id": "i9jMJaFhOffO",
        "colab_type": "text"
      },
      "source": [
        "\tMulti-paradigm: functional, imperative, object-oriented, structured, reflective\n",
        "  https://en.wikipedia.org/wiki/Python_(programming_language)"
      ]
    },
    {
      "cell_type": "markdown",
      "metadata": {
        "id": "MZE8-p5lOyW6",
        "colab_type": "text"
      },
      "source": [
        "**Installing python**\n",
        "\n",
        " 1. python distributions (https://www.python.org/downloads/)\n",
        "\n",
        " 2. anacond disributions (https://www.anaconda.com/distribution/#download-section)\n",
        " \n",
        " 3. online jyputer notebook (https://colab.research.google.com/)\n",
        "\n",
        "**IDE / Editor** \n",
        "\n",
        "1. pycharm\n",
        " https://www.jetbrains.com/pycharm/download/download-thanks.html?platform=windows&code=PCC\n",
        "\n",
        "2. Visual studio Code https://code.visualstudio.com/\n",
        "\n"
      ]
    },
    {
      "cell_type": "code",
      "metadata": {
        "id": "b4Vhlne6MtLv",
        "colab_type": "code",
        "colab": {}
      },
      "source": [
        "a = \"Welcome to Python\"  #int a , char b , float c , ... Dynnamic typed \n",
        "b = 23 \n",
        "c = 24.3\n",
        "d = 'c'\n",
        "\n",
        "print (a)"
      ],
      "execution_count": 0,
      "outputs": []
    },
    {
      "cell_type": "markdown",
      "metadata": {
        "id": "Jwd8Et4GNT0t",
        "colab_type": "text"
      },
      "source": [
        "python is dynamic typing , you dont need to specify the type. it will find by itself"
      ]
    },
    {
      "cell_type": "code",
      "metadata": {
        "id": "VzoafuMlNSvT",
        "colab_type": "code",
        "colab": {}
      },
      "source": [
        "print(type(a),type(b),type(c),type(d))"
      ],
      "execution_count": 0,
      "outputs": []
    },
    {
      "cell_type": "markdown",
      "metadata": {
        "id": "YYLtZTWiQxOf",
        "colab_type": "text"
      },
      "source": [
        "**KEYWORDS**\n",
        "\n",
        "False\tawait\telse\timport\tpass\n",
        "None\tbreak\texcept\tin\traise\n",
        "True\tclass\tfinally\tis\treturn\n",
        "and\tcontinue\tfor\tlambda\ttry\n",
        "as\tdef\tfrom\tnonlocal\twhile\n",
        "assert\tdel\tglobal\tnot\twith\n",
        "async\telif\tif\tor\tyield"
      ]
    },
    {
      "cell_type": "markdown",
      "metadata": {
        "id": "n9kQl0AXQ2Zy",
        "colab_type": "text"
      },
      "source": [
        "**Identifiers**\n",
        "\n",
        "a-z,0-9 ,and underscore_\n"
      ]
    },
    {
      "cell_type": "code",
      "metadata": {
        "id": "yabs0lYwREjs",
        "colab_type": "code",
        "colab": {}
      },
      "source": [
        "#1bbbc = \"new progres\"  identifiers can not start with numbers\n",
        "abab1 = \"new progress\""
      ],
      "execution_count": 0,
      "outputs": []
    },
    {
      "cell_type": "code",
      "metadata": {
        "id": "mrFoQSFTRVoi",
        "colab_type": "code",
        "colab": {}
      },
      "source": [
        "# if = 1  keywords can not be used for identifiers"
      ],
      "execution_count": 0,
      "outputs": []
    },
    {
      "cell_type": "markdown",
      "metadata": {
        "id": "5rTeU8eZRuPg",
        "colab_type": "text"
      },
      "source": [
        "**Statements**"
      ]
    },
    {
      "cell_type": "code",
      "metadata": {
        "id": "PyhXO5HCRxMk",
        "colab_type": "code",
        "colab": {}
      },
      "source": [
        "a = 1 #single\n",
        "\n",
        "a = 1 +1 \\\n",
        "\n",
        "# multi\n",
        "#2\n",
        "\n",
        "a = [2,  #multi\n",
        "     3,\n",
        "     4]\n"
      ],
      "execution_count": 0,
      "outputs": []
    },
    {
      "cell_type": "markdown",
      "metadata": {
        "id": "s8gdq3joSlt6",
        "colab_type": "text"
      },
      "source": [
        "**Identations**\n",
        "\n",
        "each block seperated by indentations\n"
      ]
    },
    {
      "cell_type": "code",
      "metadata": {
        "id": "Ach6hYvMSk8i",
        "colab_type": "code",
        "colab": {}
      },
      "source": [
        "for i in range(10):\n",
        "\n",
        "  \n",
        "  print(i)"
      ],
      "execution_count": 0,
      "outputs": []
    },
    {
      "cell_type": "markdown",
      "metadata": {
        "id": "WA0ugLXvS99p",
        "colab_type": "text"
      },
      "source": [
        "**comments**"
      ]
    },
    {
      "cell_type": "code",
      "metadata": {
        "id": "o3Uv9m-mS_7m",
        "colab_type": "code",
        "colab": {}
      },
      "source": [
        "# single line comments\n",
        "\"\"\" \n",
        "this is multi line commments\n",
        "\"\"\""
      ],
      "execution_count": 0,
      "outputs": []
    },
    {
      "cell_type": "code",
      "metadata": {
        "id": "IELGlQzwTU-Z",
        "colab_type": "code",
        "colab": {}
      },
      "source": [
        "def double(num):\n",
        "    \"\"\"Function to double the value\"\"\"\n",
        "    return 2*num\n",
        "\n",
        "double(3)\n",
        "print(double.__doc__)"
      ],
      "execution_count": 0,
      "outputs": []
    },
    {
      "cell_type": "markdown",
      "metadata": {
        "id": "rfHt5TJLVZPs",
        "colab_type": "text"
      },
      "source": [
        "**19th April 2020**"
      ]
    },
    {
      "cell_type": "code",
      "metadata": {
        "id": "vj4SItIJVWNA",
        "colab_type": "code",
        "colab": {}
      },
      "source": [
        "# comments - this will  be not part of the program\n",
        "\n",
        "# nullify - no effect , you write relavant\n",
        "\"\"\"\n",
        "a= 2\n",
        "b= 3\n",
        "c= 4\n",
        "d= 5\n",
        "\"\"\"\n",
        "# print(a)"
      ],
      "execution_count": 0,
      "outputs": []
    },
    {
      "cell_type": "markdown",
      "metadata": {
        "id": "wmFH5eawWKVf",
        "colab_type": "text"
      },
      "source": [
        "**Variable**"
      ]
    },
    {
      "cell_type": "code",
      "metadata": {
        "id": "8_YQ2LqhWsWb",
        "colab_type": "code",
        "colab": {}
      },
      "source": [
        "number = 10\n",
        "name = \"venkat\"\n",
        "\n",
        "name = \"Ramu\"\n",
        "print(number,name)"
      ],
      "execution_count": 0,
      "outputs": []
    },
    {
      "cell_type": "markdown",
      "metadata": {
        "id": "RmUTWe0OXGNO",
        "colab_type": "text"
      },
      "source": [
        "basic data type - int , float,bool, character / string\n",
        "\n",
        "in python , you dont have diffrence between sinle quote ' and double \"\n"
      ]
    },
    {
      "cell_type": "code",
      "metadata": {
        "id": "_xf9EJNvXBCi",
        "colab_type": "code",
        "colab": {}
      },
      "source": [
        "number = 10  # integer variable\n",
        "deci = 10.23 # float variable\n",
        "bol = True # True / flase\n",
        "website = \"apple.com\" # string - collection of characters (a,p,p,l,e,.,c,o,m) variable  1 way\n",
        "anotherWeb = 'yahoo.com' # string variable 2 way\n",
        "\n",
        "\n",
        "print(\"integer\",number)\n",
        "print(\"decimal\",deci)\n",
        "print(\"boolean\",bol)\n",
        "print(\"string\", website)\n",
        "\n",
        "# # assigning a new variable to website\n",
        "# website = \"programiz.com\"\n",
        "\n",
        "# print(website)"
      ],
      "execution_count": 0,
      "outputs": []
    },
    {
      "cell_type": "code",
      "metadata": {
        "id": "PdSP3wbJYnIG",
        "colab_type": "code",
        "colab": {}
      },
      "source": [
        "a, b, c = 5, 3.2, \"Hello\" # multiple assignment \n",
        "\n",
        "# a=5\n",
        "# b=3.2\n",
        "# c=\"Hello\"\n",
        "\n",
        "print (a)\n",
        "print (b)\n",
        "print (c)"
      ],
      "execution_count": 0,
      "outputs": []
    },
    {
      "cell_type": "code",
      "metadata": {
        "id": "DL5_mKisZCuh",
        "colab_type": "code",
        "colab": {}
      },
      "source": [
        "PI = 3.4  # capitals\n",
        "GRAVITY = 9.8"
      ],
      "execution_count": 0,
      "outputs": []
    },
    {
      "cell_type": "code",
      "metadata": {
        "id": "jcAPrGVvZRyB",
        "colab_type": "code",
        "colab": {}
      },
      "source": [
        "a = 0b1010 #Binary Literals\n",
        "b = 100 #Decimal Literal \n",
        "c = 0o310 #Octal Literal\n",
        "d = 0x12c #Hexadecimal Literal\n",
        "\n",
        "#Float Literal\n",
        "float_1 = 10.5 \n",
        "float_2 = 1.5e2\n",
        "\n",
        "#Complex Literal \n",
        "x = 2+3.14j\n",
        "\n",
        "print(a, b, c, d)\n",
        "print(float_1, float_2)\n",
        "print(x, x.imag, x.real)"
      ],
      "execution_count": 0,
      "outputs": []
    },
    {
      "cell_type": "code",
      "metadata": {
        "id": "bO8dVKM8aUcd",
        "colab_type": "code",
        "colab": {}
      },
      "source": [
        "strings = \"This is Python\"  #define use single && double quote are same , there is no difference\n",
        "char = \"C\"\n",
        "multiline_str = \"\"\"This is a multiline string \n",
        "with \n",
        "more than one \n",
        "line \n",
        "code.\"\"\"\n",
        "unicode = r\"\\u00dcnic\\u00f6de\"\n",
        "raw_str =r\"raw\\n\\tstring\"  # escape sequences \n",
        "\n",
        "print(strings)\n",
        "print(char)\n",
        "print(multiline_str)\n",
        "print(unicode)\n",
        "print(raw_str)"
      ],
      "execution_count": 0,
      "outputs": []
    },
    {
      "cell_type": "code",
      "metadata": {
        "id": "PXG0-KDqa1S0",
        "colab_type": "code",
        "colab": {}
      },
      "source": [
        "x = (1 == True)  # true = 1\n",
        "y = (1 == False) # false = 0 \n",
        "a = True + 4  # 1+ 4 = 5\n",
        "b = False + 10 # 0 + 10 = 10\n",
        "\n",
        "print(\"x is\", x)\n",
        "print(\"y is\", y)\n",
        "print(\"a:\", a)\n",
        "print(\"b:\", b)"
      ],
      "execution_count": 0,
      "outputs": []
    },
    {
      "cell_type": "code",
      "metadata": {
        "id": "EvTpqFF-bLFI",
        "colab_type": "code",
        "colab": {}
      },
      "source": [
        "drink = \"Available\"\n",
        "food = None  # null type \n",
        "\n",
        "print(drink,food)"
      ],
      "execution_count": 0,
      "outputs": []
    },
    {
      "cell_type": "markdown",
      "metadata": {
        "id": "eCyiF3b89AgK",
        "colab_type": "text"
      },
      "source": [
        ""
      ]
    },
    {
      "cell_type": "code",
      "metadata": {
        "id": "kCb9O7Ygbbb1",
        "colab_type": "code",
        "colab": {
          "base_uri": "https://localhost:8080/",
          "height": 87
        },
        "outputId": "861c7e7b-4458-43f1-9397-5719e8f8dd63"
      },
      "source": [
        "fruits = [\"apple\", \"mango\", \"orange\",23,23.3,True] #list\n",
        "numbers = (1, 2, 3,\"mmem\",\"mdm\",True,[\"sss\",\"ssss\"]) #tuple\n",
        "alphabets = {'a':'apple', 'b':'ball', 'c':'cat'} #dictionary\n",
        "vowels = {'a', 'e', 'i' , 'o', 'u'} #set\n",
        "\n",
        "print(fruits)\n",
        "print()\n",
        "print(alphnumbersabets)\n",
        "print(vowels)"
      ],
      "execution_count": 12,
      "outputs": [
        {
          "output_type": "stream",
          "text": [
            "['apple', 'mango', 'orange', 23, 23.3, True]\n",
            "(1, 2, 3, 'mmem', 'mdm', True, ['sss', 'ssss'])\n",
            "{'a': 'apple', 'b': 'ball', 'c': 'cat'}\n",
            "{'i', 'u', 'e', 'a', 'o'}\n"
          ],
          "name": "stdout"
        }
      ]
    },
    {
      "cell_type": "markdown",
      "metadata": {
        "id": "qo-19HgReivd",
        "colab_type": "text"
      },
      "source": [
        "**20-April-2020**\n"
      ]
    },
    {
      "cell_type": "markdown",
      "metadata": {
        "id": "XbsfaJ1ohF69",
        "colab_type": "text"
      },
      "source": [
        "**basic data types**: int float complex bool"
      ]
    },
    {
      "cell_type": "code",
      "metadata": {
        "id": "tTv0phjNe5SA",
        "colab_type": "code",
        "colab": {}
      },
      "source": [
        "a = 5\n",
        "print(a, \"is of type\", type(a))\n",
        "\n",
        "a = 2.0\n",
        "print(a, \"is of type\", type(a))\n",
        "print(a, \"is float\", isinstance(a,float))\n",
        "\n",
        "a = 1+2j\n",
        "print(a, \"is complex number?\", isinstance(1+2j,complex))\n",
        "\n"
      ],
      "execution_count": 0,
      "outputs": []
    },
    {
      "cell_type": "markdown",
      "metadata": {
        "id": "vDfka8Iff1qZ",
        "colab_type": "text"
      },
      "source": [
        "**collections**  list , tuple, string , set and dictonary\n"
      ]
    },
    {
      "cell_type": "code",
      "metadata": {
        "id": "clmOAh36f0Zg",
        "colab_type": "code",
        "colab": {}
      },
      "source": [
        "a = [1, 2.2, 'python']\n",
        "print(a)"
      ],
      "execution_count": 0,
      "outputs": []
    },
    {
      "cell_type": "code",
      "metadata": {
        "id": "EMRrzEX2gJVK",
        "colab_type": "code",
        "colab": {}
      },
      "source": [
        "a = [5,10,15,20,25,30,35,40]\n",
        "\n",
        "# a[2] = 15\n",
        "print(\"a[2] = \", a[2])\n",
        "\n",
        "# a[0:3] = [5, 10, 15]\n",
        "print(\"a[0:3] = \", a[0:3])\n",
        "\n",
        "# a[5:] = [30, 35, 40]\n",
        "print(\"a[5:] = \", a[5:])"
      ],
      "execution_count": 0,
      "outputs": []
    },
    {
      "cell_type": "code",
      "metadata": {
        "id": "YHU1jcOagb0-",
        "colab_type": "code",
        "colab": {}
      },
      "source": [
        "t = (5,'program', 1+3j)\n",
        "print(t)"
      ],
      "execution_count": 0,
      "outputs": []
    },
    {
      "cell_type": "code",
      "metadata": {
        "id": "WmF2ng_Ngid2",
        "colab_type": "code",
        "colab": {}
      },
      "source": [
        "s = \"This is a string\"\n",
        "print(s)\n",
        "s = '''A multiline\n",
        "string'''\n",
        "print(s)"
      ],
      "execution_count": 0,
      "outputs": []
    },
    {
      "cell_type": "code",
      "metadata": {
        "id": "NzpqAuhGguh8",
        "colab_type": "code",
        "colab": {}
      },
      "source": [
        "a = {5,2,3,1,4,5,5,5,5}\n",
        "\n",
        "# printing set variable\n",
        "print(\"a = \", a)\n",
        "\n",
        "# data type of variable a\n",
        "print(type(a))"
      ],
      "execution_count": 0,
      "outputs": []
    },
    {
      "cell_type": "code",
      "metadata": {
        "id": "qu5-B-ncg6hL",
        "colab_type": "code",
        "colab": {}
      },
      "source": [
        "d = {1:'value','key':2}\n",
        "print(type(d))\n",
        "\n",
        "print(\"d[1] = \", d[1]);\n",
        "\n",
        "print(\"d['key'] = \", d['key']);\n",
        "\n",
        "# Generates error\n",
        "#print(\"d[2] = \", d[2]);"
      ],
      "execution_count": 0,
      "outputs": []
    },
    {
      "cell_type": "code",
      "metadata": {
        "id": "dH1QdG7ohfU3",
        "colab_type": "code",
        "colab": {}
      },
      "source": [
        "a = 2\n",
        "print(type(a))\n",
        "b = 3.3\n",
        "print(type(b))\n",
        "\n",
        "print(a+b)\n",
        "print(type(a+b))\n",
        "\n",
        "print(a-b)\n",
        "print(a*b)\n",
        "print(a/b)"
      ],
      "execution_count": 0,
      "outputs": []
    },
    {
      "cell_type": "markdown",
      "metadata": {
        "id": "za4FHXA7kweL",
        "colab_type": "text"
      },
      "source": [
        "**Data type conversion**\n",
        "\n",
        "1. implicit conversion ( automaic)\n",
        "2. explicit conversion ( incompatiable data types - type conversion functions int(),float(),str().. )"
      ]
    },
    {
      "cell_type": "code",
      "metadata": {
        "id": "NjCIZ9fthc0X",
        "colab_type": "code",
        "colab": {}
      },
      "source": [
        "print(int(\"23\"))\n",
        "print(float(5))\n",
        "print(int(10.6))\n",
        "print(int(-10.6))"
      ],
      "execution_count": 0,
      "outputs": []
    },
    {
      "cell_type": "code",
      "metadata": {
        "id": "MiUzvfILidJk",
        "colab_type": "code",
        "colab": {}
      },
      "source": [
        "set([1,2,3])\n",
        "tuple({5,6,7})\n",
        "list('hello')\n",
        "dict([[1,2],[3,4]])"
      ],
      "execution_count": 0,
      "outputs": []
    },
    {
      "cell_type": "code",
      "metadata": {
        "id": "nVrZhbWSj7Qu",
        "colab_type": "code",
        "colab": {
          "base_uri": "https://localhost:8080/",
          "height": 87
        },
        "outputId": "9ec85269-638b-4525-be5b-60de6384973f"
      },
      "source": [
        "num_int = 123\n",
        "num_flo = 1.23\n",
        "\n",
        "num_new = num_int + num_flo\n",
        "\n",
        "print(\"datatype of num_int:\",type(num_int))\n",
        "print(\"datatype of num_flo:\",type(num_flo))\n",
        "\n",
        "print(\"Value of num_new:\",num_new)\n",
        "print(\"datatype of num_new:\",type(num_new))"
      ],
      "execution_count": 13,
      "outputs": [
        {
          "output_type": "stream",
          "text": [
            "datatype of num_int: <class 'int'>\n",
            "datatype of num_flo: <class 'float'>\n",
            "Value of num_new: 124.23\n",
            "datatype of num_new: <class 'float'>\n"
          ],
          "name": "stdout"
        }
      ]
    },
    {
      "cell_type": "code",
      "metadata": {
        "id": "e01jvGm7kDmI",
        "colab_type": "code",
        "colab": {
          "base_uri": "https://localhost:8080/",
          "height": 70
        },
        "outputId": "c9bf31e2-667f-48ed-dd90-070dc7c5b578"
      },
      "source": [
        "num_int = 123\n",
        "num_str = \"456\"\n",
        "\n",
        "print(\"Data type of num_int:\",type(num_int))\n",
        "print(\"Data type of num_str:\",type(num_str))\n",
        "\n",
        "print(num_int+int(num_str))"
      ],
      "execution_count": 15,
      "outputs": [
        {
          "output_type": "stream",
          "text": [
            "Data type of num_int: <class 'int'>\n",
            "Data type of num_str: <class 'str'>\n",
            "579\n"
          ],
          "name": "stdout"
        }
      ]
    },
    {
      "cell_type": "code",
      "metadata": {
        "id": "2upCQr_AkfSg",
        "colab_type": "code",
        "colab": {
          "base_uri": "https://localhost:8080/",
          "height": 255
        },
        "outputId": "49f8e7f3-9ce5-4f64-cb0c-5969f19ac615"
      },
      "source": [
        "num_int = 123\n",
        "num_str = \"456\"\n",
        "\n",
        "print(int(num_str))\n",
        "str1 = \"abc\"\n",
        "\n",
        "print(int(str1))\n",
        "\n",
        "print(\"Data type of num_int:\",type(num_int))\n",
        "print(\"Data type of num_str before Type Casting:\",type(num_str))\n",
        "\n",
        "num_str = int(num_str)\n",
        "print(\"Data type of num_str after Type Casting:\",type(num_str))\n",
        "\n",
        "num_sum = num_int + num_str\n",
        "\n",
        "print(\"Sum of num_int and num_str:\",num_sum)\n",
        "print(\"Data type of the sum:\",type(num_sum))"
      ],
      "execution_count": 17,
      "outputs": [
        {
          "output_type": "stream",
          "text": [
            "456\n"
          ],
          "name": "stdout"
        },
        {
          "output_type": "error",
          "ename": "ValueError",
          "evalue": "ignored",
          "traceback": [
            "\u001b[0;31m---------------------------------------------------------------------------\u001b[0m",
            "\u001b[0;31mValueError\u001b[0m                                Traceback (most recent call last)",
            "\u001b[0;32m<ipython-input-17-ab6a2053c589>\u001b[0m in \u001b[0;36m<module>\u001b[0;34m()\u001b[0m\n\u001b[1;32m      5\u001b[0m \u001b[0mstr1\u001b[0m \u001b[0;34m=\u001b[0m \u001b[0;34m\"abc\"\u001b[0m\u001b[0;34m\u001b[0m\u001b[0;34m\u001b[0m\u001b[0m\n\u001b[1;32m      6\u001b[0m \u001b[0;34m\u001b[0m\u001b[0m\n\u001b[0;32m----> 7\u001b[0;31m \u001b[0mprint\u001b[0m\u001b[0;34m(\u001b[0m\u001b[0mint\u001b[0m\u001b[0;34m(\u001b[0m\u001b[0mstr1\u001b[0m\u001b[0;34m)\u001b[0m\u001b[0;34m)\u001b[0m\u001b[0;34m\u001b[0m\u001b[0;34m\u001b[0m\u001b[0m\n\u001b[0m\u001b[1;32m      8\u001b[0m \u001b[0;34m\u001b[0m\u001b[0m\n\u001b[1;32m      9\u001b[0m \u001b[0mprint\u001b[0m\u001b[0;34m(\u001b[0m\u001b[0;34m\"Data type of num_int:\"\u001b[0m\u001b[0;34m,\u001b[0m\u001b[0mtype\u001b[0m\u001b[0;34m(\u001b[0m\u001b[0mnum_int\u001b[0m\u001b[0;34m)\u001b[0m\u001b[0;34m)\u001b[0m\u001b[0;34m\u001b[0m\u001b[0;34m\u001b[0m\u001b[0m\n",
            "\u001b[0;31mValueError\u001b[0m: invalid literal for int() with base 10: 'abc'"
          ]
        }
      ]
    },
    {
      "cell_type": "markdown",
      "metadata": {
        "id": "7zyZE4SGmoXp",
        "colab_type": "text"
      },
      "source": [
        "**Operators**\n",
        "\n",
        "arithamatic ( +.-,*...)\n",
        "relational (<,>\n",
        "bit wise \n"
      ]
    },
    {
      "cell_type": "code",
      "metadata": {
        "id": "xOBzeNOqnBl1",
        "colab_type": "code",
        "colab": {}
      },
      "source": [
        "x = 15\n",
        "y = 4\n",
        "\n",
        "# Output: x + y = 19\n",
        "print('x + y =',x+y)\n",
        "\n",
        "# Output: x - y = 11\n",
        "print('x - y =',x-y)\n",
        "\n",
        "# Output: x * y = 60\n",
        "print('x * y =',x*y)\n",
        "\n",
        "# Output: x / y = 3.75\n",
        "print('x / y =',x/y)\n",
        "\n",
        "# Output: x // y = 3\n",
        "print('x // y =',x//y)\n",
        "\n",
        "# Output: x ** y = 50625\n",
        "print('x ** y =',x**y)"
      ],
      "execution_count": 0,
      "outputs": []
    },
    {
      "cell_type": "code",
      "metadata": {
        "id": "3zlM_1YPnNsV",
        "colab_type": "code",
        "colab": {}
      },
      "source": [
        "x = 10\n",
        "y = 12\n",
        "\n",
        "# Output: x > y is False\n",
        "print('x > y is',x>y)\n",
        "\n",
        "# Output: x < y is True\n",
        "print('x < y is',x<y)\n",
        "\n",
        "# Output: x == y is False\n",
        "print('x == y is',x==y)\n",
        "\n",
        "# Output: x != y is True\n",
        "print('x != y is',x!=y)\n",
        "\n",
        "# Output: x >= y is False\n",
        "print('x >= y is',x>=y)\n",
        "\n",
        "# Output: x <= y is True\n",
        "print('x <= y is',x<=y)"
      ],
      "execution_count": 0,
      "outputs": []
    },
    {
      "cell_type": "code",
      "metadata": {
        "id": "JgtMSzxBnnPL",
        "colab_type": "code",
        "colab": {}
      },
      "source": [
        "x = True\n",
        "y = False\n",
        "\n",
        "print('x and y is',x and y)\n",
        "\n",
        "print('x or y is',x or y)\n",
        "\n",
        "print('not x is',not x)"
      ],
      "execution_count": 0,
      "outputs": []
    },
    {
      "cell_type": "code",
      "metadata": {
        "id": "YfUoPYJan3qf",
        "colab_type": "code",
        "colab": {}
      },
      "source": [
        "x = 10\n",
        "y = 4 \n",
        "\n",
        "print ('x&y',x&y)\n",
        "print ('x|y',x|y)\n",
        "print ('~x',~x)\n",
        "print ('x^y',x^y)\n",
        "print ('x<<2',x<<2)\n",
        "print ('x>>2',x>>2)\n"
      ],
      "execution_count": 0,
      "outputs": []
    },
    {
      "cell_type": "code",
      "metadata": {
        "id": "VMhX2BPupODN",
        "colab_type": "code",
        "colab": {}
      },
      "source": [
        "x1 = 5\n",
        "y1 = 5\n",
        "x2 = 'Hello'\n",
        "y2 = 'Hello'\n",
        "x3 = [1,2,3]\n",
        "y3 = [1,2,3]\n",
        "\n",
        "# Output: False\n",
        "print(x1 is not y1)\n",
        "\n",
        "# Output: True\n",
        "print(x2 is y2)\n",
        "\n",
        "# Output: False\n",
        "print(x3 is y3)"
      ],
      "execution_count": 0,
      "outputs": []
    },
    {
      "cell_type": "code",
      "metadata": {
        "id": "RtsEM5nKp5L8",
        "colab_type": "code",
        "colab": {}
      },
      "source": [
        "x = 'Hello world'\n",
        "y = {1:'a',2:'b'}\n",
        "\n",
        "# Output: True\n",
        "print('H' in x)\n",
        "\n",
        "# Output: True\n",
        "print('hello' not in x)\n",
        "\n",
        "# Output: True\n",
        "print(1 in y)\n",
        "\n",
        "# Output: False\n",
        "print('a' in y)"
      ],
      "execution_count": 0,
      "outputs": []
    },
    {
      "cell_type": "markdown",
      "metadata": {
        "id": "nzpyIN8Zq7Nd",
        "colab_type": "text"
      },
      "source": [
        "1. Airthamatic\n",
        "2. relational\n",
        "3. logical\n",
        "4. bit wise\n",
        "5. assignment\n",
        "6. identity\n",
        "7. membership\n"
      ]
    }
  ]
}
